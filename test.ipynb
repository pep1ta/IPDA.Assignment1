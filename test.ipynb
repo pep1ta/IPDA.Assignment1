{
 "cells": [
  {
   "cell_type": "code",
   "execution_count": 56,
   "metadata": {},
   "outputs": [
    {
     "name": "stdout",
     "output_type": "stream",
     "text": [
      "3060 DE-BW\n",
      "3061 DE-BY\n",
      "3062 DE-BE\n",
      "3063 DE-BB\n",
      "3064 DE-HB\n",
      "3065 DE-HH\n",
      "3066 DE-HE\n",
      "3067 DE-MV\n",
      "3068 DE-NI\n",
      "3069 DE-NW\n",
      "3070 DE-RP\n",
      "3071 DE-SL\n",
      "3072 DE-SN\n",
      "3073 DE-ST\n",
      "3074 DE-SH\n",
      "3075 DE-TH\n"
     ]
    }
   ],
   "source": [
    "import requests\n",
    "import csv\n",
    "import pandas as pd\n",
    "from bs4 import BeautifulSoup\n",
    "from datetime import date, timedelta, datetime\n",
    "\n",
    "states = [\n",
    "    (\"DE-BW\", 3060, 11339260),\n",
    "    (\"DE-BY\", 3061, 13435062),\n",
    "    (\"DE-BE\", 3062, 3782202),\n",
    "    (\"DE-BB\", 3063, 2581667),\n",
    "    (\"DE-HB\", 3064, 691703),\n",
    "    (\"DE-HH\", 3065, 1910160),\n",
    "    (\"DE-HE\", 3066, 6420729),\n",
    "    (\"DE-MV\", 3067, 1629464),\n",
    "    (\"DE-NI\", 3068, 8161981),\n",
    "    (\"DE-NW\", 3069, 18190422),\n",
    "    (\"DE-RP\", 3070, 4174311),\n",
    "    (\"DE-SL\", 3071, 994424),\n",
    "    (\"DE-SN\", 3072, 4089467),\n",
    "    (\"DE-ST\", 3073, 2180448),\n",
    "    (\"DE-SH\", 3074, 2965691),\n",
    "    (\"DE-TH\", 3075, 2122335)\n",
    "]\n",
    "\n",
    "results = [] \n",
    "results.append((\"stateId\", \"stateISO\", \"day\"))\n",
    "\n",
    "\n",
    "def write_results(stateId, stateISO):\n",
    "    url = f'https://www.feiertagskalender.ch/ferien.php?geo={stateId}&jahr=2023&klasse=0&hl=en'\n",
    "    response = requests.get(url)\n",
    "    soup = BeautifulSoup(response.text, 'html.parser')\n",
    "    body = soup.find('table', {\"id\": \"school_vacancies\"} )\n",
    "    rows = body.find_all('tr')\n",
    "    for row in rows:\n",
    "        cell = row.find_all('td')\n",
    "        if(cell):\n",
    "            start_date = datetime.strptime(cell[0].text, '%d.%m.%Y').date()\n",
    "            end_date = start_date\n",
    "            if(cell[3].text):\n",
    "                end_date = datetime.strptime(cell[3].text, '%d.%m.%Y').date()\n",
    "            delta = end_date - start_date\n",
    "            for i in range(delta.days + 1):\n",
    "                day = start_date + timedelta(days=i)\n",
    "                results.append((stateId, stateISO, day))\n",
    "\n",
    "    # df = pd.DataFrame({'Names': results})\n",
    "    # df.to_csv('2023.csv', index=False, encoding='utf-8')\n",
    "\n",
    "    # for i in results:\n",
    "    #     print(i)\n",
    "        \n",
    "    with open(\"test.csv\", \"wt\",newline='') as fp:\n",
    "        writer = csv.writer(fp, delimiter=\",\")\n",
    "        # writer.writerow([\"your\", \"header\", \"foo\"])  # write header\n",
    "        writer.writerows(results)\n",
    "\n",
    "for state in states:\n",
    "    print(state[1], state[0])\n",
    "    write_results(state[1], state[0])"
   ]
  },
  {
   "cell_type": "code",
   "execution_count": null,
   "metadata": {},
   "outputs": [],
   "source": []
  }
 ],
 "metadata": {
  "kernelspec": {
   "display_name": "IPDA_01",
   "language": "python",
   "name": "python3"
  },
  "language_info": {
   "codemirror_mode": {
    "name": "ipython",
    "version": 3
   },
   "file_extension": ".py",
   "mimetype": "text/x-python",
   "name": "python",
   "nbconvert_exporter": "python",
   "pygments_lexer": "ipython3",
   "version": "3.12.6"
  }
 },
 "nbformat": 4,
 "nbformat_minor": 2
}
