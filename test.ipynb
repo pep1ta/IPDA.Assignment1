{
 "cells": [
  {
   "cell_type": "code",
   "execution_count": 15,
   "metadata": {},
   "outputs": [
    {
     "name": "stdout",
     "output_type": "stream",
     "text": [
      "<span class=\"dark\">21.12.2022</span>\n",
      "<span class=\"dark\">07.01.2023</span>\n",
      "<span class=\"dark\">Christmas holidays</span>\n",
      "<span class=\"dark\">06.04.2023</span>\n",
      "<span class=\"dark\">15.04.2023</span>\n",
      "<span class=\"dark\">Easter holidays</span>\n",
      "<span class=\"dark\">30.05.2023</span>\n",
      "<span class=\"dark\">09.06.2023</span>\n",
      "<span class=\"dark\">Whitsun Holiday</span>\n",
      "<span class=\"dark\">27.07.2023</span>\n",
      "<span class=\"dark\">09.09.2023</span>\n",
      "<span class=\"dark\">Summer holidays</span>\n",
      "<span class=\"dark\">30.10.2023</span>\n",
      "<span class=\"dark\">03.11.2023</span>\n",
      "<span class=\"dark\">Autumn holidays</span>\n",
      "<span class=\"dark\">23.12.2023</span>\n",
      "<span class=\"dark\">05.01.2024</span>\n",
      "<span class=\"dark\">Christmas holidays</span>\n"
     ]
    }
   ],
   "source": [
    "import requests\n",
    "from bs4 import BeautifulSoup\n",
    "\n",
    "url = 'https://www.feiertagskalender.ch/ferien.php?geo=3060&jahr=2023&klasse=0&hl=en'\n",
    "response = requests.get(url)\n",
    "soup = BeautifulSoup(response.text, 'html.parser')\n",
    "body = soup.find('table', {\"id\": \"school_vacancies\"} )\n",
    "rows = body.find_all('span')\n",
    "for r in rows:\n",
    "    print(r)"
   ]
  },
  {
   "cell_type": "code",
   "execution_count": null,
   "metadata": {},
   "outputs": [],
   "source": []
  }
 ],
 "metadata": {
  "kernelspec": {
   "display_name": "IPDA_01",
   "language": "python",
   "name": "python3"
  },
  "language_info": {
   "codemirror_mode": {
    "name": "ipython",
    "version": 3
   },
   "file_extension": ".py",
   "mimetype": "text/x-python",
   "name": "python",
   "nbconvert_exporter": "python",
   "pygments_lexer": "ipython3",
   "version": "3.12.6"
  }
 },
 "nbformat": 4,
 "nbformat_minor": 2
}
